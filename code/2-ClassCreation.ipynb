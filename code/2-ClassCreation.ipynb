{
 "cells": [
  {
   "cell_type": "code",
   "execution_count": 2,
   "metadata": {},
   "outputs": [],
   "source": [
    "import os\n",
    "import shutil\n",
    "import random\n",
    "import glob"
   ]
  },
  {
   "cell_type": "code",
   "execution_count": 14,
   "metadata": {
    "collapsed": true
   },
   "outputs": [
    {
     "ename": "FileExistsError",
     "evalue": "[WinError 183] No se puede crear un archivo que ya existe: 'images/ramp/ramp_1353' -> 'images/ramp/ramp_4221'",
     "output_type": "error",
     "traceback": [
      "\u001b[1;31m---------------------------------------------------------------------------\u001b[0m",
      "\u001b[1;31mFileExistsError\u001b[0m                           Traceback (most recent call last)",
      "\u001b[1;32m<ipython-input-14-af5c7c90f69c>\u001b[0m in \u001b[0;36m<module>\u001b[1;34m\u001b[0m\n\u001b[0;32m     10\u001b[0m \u001b[1;32mfor\u001b[0m \u001b[0mi\u001b[0m \u001b[1;32min\u001b[0m \u001b[0mrange\u001b[0m\u001b[1;33m(\u001b[0m\u001b[0mlen\u001b[0m\u001b[1;33m(\u001b[0m\u001b[0mramp_files\u001b[0m\u001b[1;33m)\u001b[0m\u001b[1;33m)\u001b[0m\u001b[1;33m:\u001b[0m\u001b[1;33m\u001b[0m\u001b[1;33m\u001b[0m\u001b[0m\n\u001b[0;32m     11\u001b[0m     \u001b[0mcounter\u001b[0m \u001b[1;33m=\u001b[0m \u001b[1;36m800\u001b[0m\u001b[1;33m\u001b[0m\u001b[1;33m\u001b[0m\u001b[0m\n\u001b[1;32m---> 12\u001b[1;33m     \u001b[0mos\u001b[0m\u001b[1;33m.\u001b[0m\u001b[0mrename\u001b[0m\u001b[1;33m(\u001b[0m\u001b[0mstr\u001b[0m\u001b[1;33m(\u001b[0m\u001b[0mramp_path\u001b[0m\u001b[1;33m+\u001b[0m\u001b[0mramp_files\u001b[0m\u001b[1;33m[\u001b[0m\u001b[0mi\u001b[0m\u001b[1;33m]\u001b[0m\u001b[1;33m)\u001b[0m\u001b[1;33m,\u001b[0m \u001b[0mstr\u001b[0m\u001b[1;33m(\u001b[0m\u001b[0mramp_path\u001b[0m\u001b[1;33m+\u001b[0m\u001b[1;34m'ramp_'\u001b[0m\u001b[1;33m+\u001b[0m\u001b[0mstr\u001b[0m\u001b[1;33m(\u001b[0m\u001b[0mrandom\u001b[0m\u001b[1;33m.\u001b[0m\u001b[0mrandint\u001b[0m\u001b[1;33m(\u001b[0m\u001b[1;36m500\u001b[0m\u001b[1;33m,\u001b[0m\u001b[1;36m5000\u001b[0m\u001b[1;33m)\u001b[0m\u001b[1;33m)\u001b[0m\u001b[1;33m)\u001b[0m\u001b[1;33m)\u001b[0m\u001b[1;33m\u001b[0m\u001b[1;33m\u001b[0m\u001b[0m\n\u001b[0m\u001b[0;32m     13\u001b[0m     \u001b[0mcounter\u001b[0m \u001b[1;33m+=\u001b[0m \u001b[1;36m1\u001b[0m\u001b[1;33m\u001b[0m\u001b[1;33m\u001b[0m\u001b[0m\n\u001b[0;32m     14\u001b[0m \u001b[1;33m\u001b[0m\u001b[0m\n",
      "\u001b[1;31mFileExistsError\u001b[0m: [WinError 183] No se puede crear un archivo que ya existe: 'images/ramp/ramp_1353' -> 'images/ramp/ramp_4221'"
     ]
    }
   ],
   "source": [
    "    ### Standarize the name of the files ###\n",
    "    \n",
    "# Stablish the path to the folders to standarize\n",
    "ramp_path = 'images/ramp/'\n",
    "no_ramp_path = 'images/no_ramp/'\n",
    "\n",
    "# Get the files names\n",
    "ramp_files = os.listdir(ramp_path)\n",
    "no_ramp_files = os.listdir(no_ramp_path)\n",
    "\n",
    "# Change the names\n",
    "for i in range(len(ramp_files)):\n",
    "    counter = 800\n",
    "    os.rename(str(ramp_path+ramp_files[i]), str(ramp_path+'ramp_'+str(random.randint(500,5000))))\n",
    "    counter += 1\n",
    "\n",
    "for i in range(len(no_ramp_files)):\n",
    "    counter = 800\n",
    "    os.rename(str(no_ramp_path+no_ramp_files[i]), str(no_ramp_path+'no_ramp_'+str(random.randint(500,5000))))\n",
    "    counter += 1"
   ]
  },
  {
   "cell_type": "code",
   "execution_count": 17,
   "metadata": {},
   "outputs": [],
   "source": [
    "no_ramp_files = os.listdir(no_ramp_path)\n",
    "for i in range(len(no_ramp_files)):\n",
    "    counter = 800\n",
    "    os.rename(str(no_ramp_path+no_ramp_files[i]), str(no_ramp_path+'no_ramp_'+str(random.randint(5000,50000))))\n",
    "    counter += 1"
   ]
  },
  {
   "cell_type": "code",
   "execution_count": 15,
   "metadata": {},
   "outputs": [],
   "source": [
    "    ### Move the files to a common folder ###\n",
    "    \n",
    "# Move the ramp images to the images folder\n",
    "ramp_files_std = os.listdir(ramp_path)\n",
    "destination = 'images'\n",
    "for i in ramp_files_std:\n",
    "    shutil.move(src=ramp_path+i, dst=destination)"
   ]
  },
  {
   "cell_type": "code",
   "execution_count": 16,
   "metadata": {},
   "outputs": [],
   "source": [
    "# Move the no_ramp images to the images folder\n",
    "no_ramp_files_std = os.listdir(no_ramp_path)\n",
    "    # destination remains the same\n",
    "for i in no_ramp_files_std:\n",
    "    shutil.move(src=no_ramp_path+i, dst=destination)"
   ]
  },
  {
   "cell_type": "code",
   "execution_count": 23,
   "metadata": {},
   "outputs": [],
   "source": [
    "# Organize data into train, validation and test subsets\n",
    "if os.path.isdir('Images/train/ramp') is False:\n",
    "    os.makedirs('Images/train/ramp')\n",
    "    os.makedirs('Images/train/no_ramp')\n",
    "    os.makedirs('Images/valid/ramp')\n",
    "    os.makedirs('Images/valid/no_ramp')\n",
    "    os.makedirs('Images/test/ramp')\n",
    "    os.makedirs('Images/test/no_ramp')\n",
    "    for i in random.sample(glob.glob('ramp*'), 750):\n",
    "        shutil.move(i, 'Images/train/ramp')      \n",
    "    for i in random.sample(glob.glob('no_ramp*'), 750):\n",
    "        shutil.move(i, 'Images/train/no_ramp')\n",
    "    for i in random.sample(glob.glob('ramp*'), 200):\n",
    "        shutil.move(i, 'Images/valid/ramp')        \n",
    "    for i in random.sample(glob.glob('no_ramp*'), 200):\n",
    "        shutil.move(i, 'Images/valid/no_ramp')\n",
    "    for i in random.sample(glob.glob('ramp*'), 125):\n",
    "        shutil.move(i, 'Images/test/ramp')      \n",
    "    for i in random.sample(glob.glob('no_ramp*'), 125):\n",
    "        shutil.move(i, 'Images/test/no_ramp')"
   ]
  },
  {
   "cell_type": "code",
   "execution_count": 6,
   "metadata": {},
   "outputs": [],
   "source": [
    "# Rename the images from the road dataset\n",
    "road = os.listdir('E:\\Docs\\Academic\\IronHack\\Projects\\Project-Week-8-Travelling-With-Wheelchair/RoadImages/')\n",
    "for i in range(len(road)):\n",
    "    os.rename(str('E:\\Docs\\Academic\\IronHack\\Projects\\Project-Week-8-Travelling-With-Wheelchair\\RoadImages/'+road[i]), str('E:\\Docs\\Academic\\IronHack\\Projects\\Project-Week-8-Travelling-With-Wheelchair\\RoadImages/'+'road_4'+str(i)+'.png'))"
   ]
  },
  {
   "cell_type": "code",
   "execution_count": 23,
   "metadata": {},
   "outputs": [],
   "source": [
    "# Define the base_path\n",
    "base_path = 'E:\\Docs\\Academic\\IronHack\\Projects\\Project-Week-8-Travelling-With-Wheelchair/RoadImages/Images/'"
   ]
  },
  {
   "cell_type": "code",
   "execution_count": 31,
   "metadata": {
    "collapsed": true
   },
   "outputs": [
    {
     "ename": "Error",
     "evalue": "Destination path 'E:\\Docs\\Academic\\IronHack\\Projects\\Project-Week-8-Travelling-With-Wheelchair/RoadImages/ramp_44.png' already exists",
     "output_type": "error",
     "traceback": [
      "\u001b[1;31m---------------------------------------------------------------------------\u001b[0m",
      "\u001b[1;31mError\u001b[0m                                     Traceback (most recent call last)",
      "\u001b[1;32m<ipython-input-31-4b2cba34dfa4>\u001b[0m in \u001b[0;36m<module>\u001b[1;34m\u001b[0m\n\u001b[0;32m      2\u001b[0m     \u001b[1;32mfor\u001b[0m \u001b[0mj\u001b[0m \u001b[1;32min\u001b[0m \u001b[0mos\u001b[0m\u001b[1;33m.\u001b[0m\u001b[0mlistdir\u001b[0m\u001b[1;33m(\u001b[0m\u001b[0mbase_path\u001b[0m\u001b[1;33m+\u001b[0m\u001b[0mstr\u001b[0m\u001b[1;33m(\u001b[0m\u001b[0mi\u001b[0m\u001b[1;33m)\u001b[0m\u001b[1;33m)\u001b[0m\u001b[1;33m:\u001b[0m\u001b[1;33m\u001b[0m\u001b[1;33m\u001b[0m\u001b[0m\n\u001b[0;32m      3\u001b[0m         \u001b[1;32mfor\u001b[0m \u001b[0mk\u001b[0m \u001b[1;32min\u001b[0m \u001b[0mos\u001b[0m\u001b[1;33m.\u001b[0m\u001b[0mlistdir\u001b[0m\u001b[1;33m(\u001b[0m\u001b[0mbase_path\u001b[0m\u001b[1;33m+\u001b[0m\u001b[0mstr\u001b[0m\u001b[1;33m(\u001b[0m\u001b[0mi\u001b[0m\u001b[1;33m)\u001b[0m\u001b[1;33m+\u001b[0m\u001b[1;34m'/'\u001b[0m\u001b[1;33m+\u001b[0m\u001b[0mstr\u001b[0m\u001b[1;33m(\u001b[0m\u001b[0mj\u001b[0m\u001b[1;33m)\u001b[0m\u001b[1;33m)\u001b[0m\u001b[1;33m:\u001b[0m\u001b[1;33m\u001b[0m\u001b[1;33m\u001b[0m\u001b[0m\n\u001b[1;32m----> 4\u001b[1;33m             \u001b[0mshutil\u001b[0m\u001b[1;33m.\u001b[0m\u001b[0mmove\u001b[0m\u001b[1;33m(\u001b[0m\u001b[0mstr\u001b[0m\u001b[1;33m(\u001b[0m\u001b[0mbase_path\u001b[0m\u001b[1;33m+\u001b[0m\u001b[0mstr\u001b[0m\u001b[1;33m(\u001b[0m\u001b[0mi\u001b[0m\u001b[1;33m)\u001b[0m\u001b[1;33m+\u001b[0m\u001b[1;34m'/'\u001b[0m\u001b[1;33m+\u001b[0m\u001b[0mstr\u001b[0m\u001b[1;33m(\u001b[0m\u001b[0mj\u001b[0m\u001b[1;33m)\u001b[0m\u001b[1;33m+\u001b[0m\u001b[1;34m'/'\u001b[0m\u001b[1;33m+\u001b[0m\u001b[0mstr\u001b[0m\u001b[1;33m(\u001b[0m\u001b[0mk\u001b[0m\u001b[1;33m)\u001b[0m\u001b[1;33m)\u001b[0m\u001b[1;33m,\u001b[0m \u001b[1;34m'E:\\Docs\\Academic\\IronHack\\Projects\\Project-Week-8-Travelling-With-Wheelchair/RoadImages/'\u001b[0m\u001b[1;33m)\u001b[0m\u001b[1;33m\u001b[0m\u001b[1;33m\u001b[0m\u001b[0m\n\u001b[0m",
      "\u001b[1;32m~\\anaconda3\\envs\\Final_project\\lib\\shutil.py\u001b[0m in \u001b[0;36mmove\u001b[1;34m(src, dst, copy_function)\u001b[0m\n\u001b[0;32m    562\u001b[0m         \u001b[0mreal_dst\u001b[0m \u001b[1;33m=\u001b[0m \u001b[0mos\u001b[0m\u001b[1;33m.\u001b[0m\u001b[0mpath\u001b[0m\u001b[1;33m.\u001b[0m\u001b[0mjoin\u001b[0m\u001b[1;33m(\u001b[0m\u001b[0mdst\u001b[0m\u001b[1;33m,\u001b[0m \u001b[0m_basename\u001b[0m\u001b[1;33m(\u001b[0m\u001b[0msrc\u001b[0m\u001b[1;33m)\u001b[0m\u001b[1;33m)\u001b[0m\u001b[1;33m\u001b[0m\u001b[1;33m\u001b[0m\u001b[0m\n\u001b[0;32m    563\u001b[0m         \u001b[1;32mif\u001b[0m \u001b[0mos\u001b[0m\u001b[1;33m.\u001b[0m\u001b[0mpath\u001b[0m\u001b[1;33m.\u001b[0m\u001b[0mexists\u001b[0m\u001b[1;33m(\u001b[0m\u001b[0mreal_dst\u001b[0m\u001b[1;33m)\u001b[0m\u001b[1;33m:\u001b[0m\u001b[1;33m\u001b[0m\u001b[1;33m\u001b[0m\u001b[0m\n\u001b[1;32m--> 564\u001b[1;33m             \u001b[1;32mraise\u001b[0m \u001b[0mError\u001b[0m\u001b[1;33m(\u001b[0m\u001b[1;34m\"Destination path '%s' already exists\"\u001b[0m \u001b[1;33m%\u001b[0m \u001b[0mreal_dst\u001b[0m\u001b[1;33m)\u001b[0m\u001b[1;33m\u001b[0m\u001b[1;33m\u001b[0m\u001b[0m\n\u001b[0m\u001b[0;32m    565\u001b[0m     \u001b[1;32mtry\u001b[0m\u001b[1;33m:\u001b[0m\u001b[1;33m\u001b[0m\u001b[1;33m\u001b[0m\u001b[0m\n\u001b[0;32m    566\u001b[0m         \u001b[0mos\u001b[0m\u001b[1;33m.\u001b[0m\u001b[0mrename\u001b[0m\u001b[1;33m(\u001b[0m\u001b[0msrc\u001b[0m\u001b[1;33m,\u001b[0m \u001b[0mreal_dst\u001b[0m\u001b[1;33m)\u001b[0m\u001b[1;33m\u001b[0m\u001b[1;33m\u001b[0m\u001b[0m\n",
      "\u001b[1;31mError\u001b[0m: Destination path 'E:\\Docs\\Academic\\IronHack\\Projects\\Project-Week-8-Travelling-With-Wheelchair/RoadImages/ramp_44.png' already exists"
     ]
    }
   ],
   "source": [
    "# Move the files\n",
    "for i in os.listdir(base_path):\n",
    "    for j in os.listdir(base_path+str(i)):\n",
    "        for k in os.listdir(base_path+str(i)+'/'+str(j)):\n",
    "            shutil.move(str(base_path+str(i)+'/'+str(j)+'/'+str(k)), 'E:\\Docs\\Academic\\IronHack\\Projects\\Project-Week-8-Travelling-With-Wheelchair/RoadImages/')"
   ]
  },
  {
   "cell_type": "code",
   "execution_count": 33,
   "metadata": {},
   "outputs": [],
   "source": [
    "# Same organization with the road/sidewalk database\n",
    "if os.path.isdir('E:\\Docs\\Academic\\IronHack\\Projects\\Project-Week-8-Travelling-With-Wheelchair\\RoadImages/train/road') is False:\n",
    "    os.makedirs('E:\\Docs\\Academic\\IronHack\\Projects\\Project-Week-8-Travelling-With-Wheelchair\\RoadImages/train/road')\n",
    "    os.makedirs('E:\\Docs\\Academic\\IronHack\\Projects\\Project-Week-8-Travelling-With-Wheelchair\\RoadImages/train/sidewalk')\n",
    "    os.makedirs('E:\\Docs\\Academic\\IronHack\\Projects\\Project-Week-8-Travelling-With-Wheelchair\\RoadImages/valid/road')\n",
    "    os.makedirs('E:\\Docs\\Academic\\IronHack\\Projects\\Project-Week-8-Travelling-With-Wheelchair\\RoadImages/valid/sidewalk')\n",
    "    os.makedirs('E:\\Docs\\Academic\\IronHack\\Projects\\Project-Week-8-Travelling-With-Wheelchair\\RoadImages/test/road')\n",
    "    os.makedirs('E:\\Docs\\Academic\\IronHack\\Projects\\Project-Week-8-Travelling-With-Wheelchair\\RoadImages/test/sidewalk')\n",
    "    for i in random.sample(glob.glob('road*'), 1000):\n",
    "        shutil.move(i, 'E:\\Docs\\Academic\\IronHack\\Projects\\Project-Week-8-Travelling-With-Wheelchair\\RoadImages/train/road')      \n",
    "    for i in random.sample(glob.glob('*ramp*'), 1000):\n",
    "        shutil.move(i, 'E:\\Docs\\Academic\\IronHack\\Projects\\Project-Week-8-Travelling-With-Wheelchair\\RoadImages/train/sidewalk')\n",
    "    for i in random.sample(glob.glob('road*'), 300):\n",
    "        shutil.move(i, 'E:\\Docs\\Academic\\IronHack\\Projects\\Project-Week-8-Travelling-With-Wheelchair\\RoadImages/valid/road')        \n",
    "    for i in random.sample(glob.glob('*ramp*'), 300):\n",
    "        shutil.move(i, 'E:\\Docs\\Academic\\IronHack\\Projects\\Project-Week-8-Travelling-With-Wheelchair\\RoadImages/valid/sidewal')\n",
    "    for i in random.sample(glob.glob('road*'), 200):\n",
    "        shutil.move(i, 'E:\\Docs\\Academic\\IronHack\\Projects\\Project-Week-8-Travelling-With-Wheelchair\\RoadImages/test/road')      \n",
    "    for i in random.sample(glob.glob('*ramp*'), 200):\n",
    "        shutil.move(i, 'E:\\Docs\\Academic\\IronHack\\Projects\\Project-Week-8-Travelling-With-Wheelchair\\RoadImages/test/sidewalk')"
   ]
  },
  {
   "cell_type": "code",
   "execution_count": 49,
   "metadata": {},
   "outputs": [],
   "source": [
    "for i in random.sample(glob.glob('E:\\Docs\\Academic\\IronHack\\Projects\\Project-Week-8-Travelling-With-Wheelchair/RoadImages/road*'), 1000):\n",
    "        shutil.move(i, 'E:\\Docs\\Academic\\IronHack\\Projects\\Project-Week-8-Travelling-With-Wheelchair\\RoadImages/train/road')      \n",
    "for i in random.sample(glob.glob('E:\\Docs\\Academic\\IronHack\\Projects\\Project-Week-8-Travelling-With-Wheelchair/RoadImages/*ramp*'), 1000):\n",
    "    shutil.move(i, 'E:\\Docs\\Academic\\IronHack\\Projects\\Project-Week-8-Travelling-With-Wheelchair\\RoadImages/train/sidewalk')\n",
    "for i in random.sample(glob.glob('E:\\Docs\\Academic\\IronHack\\Projects\\Project-Week-8-Travelling-With-Wheelchair/RoadImages/road*'), 300):\n",
    "    shutil.move(i, 'E:\\Docs\\Academic\\IronHack\\Projects\\Project-Week-8-Travelling-With-Wheelchair\\RoadImages/valid/road')        \n",
    "for i in random.sample(glob.glob('E:\\Docs\\Academic\\IronHack\\Projects\\Project-Week-8-Travelling-With-Wheelchair/RoadImages/*ramp*'), 300):\n",
    "    shutil.move(i, 'E:\\Docs\\Academic\\IronHack\\Projects\\Project-Week-8-Travelling-With-Wheelchair\\RoadImages/valid/sidewal')\n",
    "for i in random.sample(glob.glob('E:\\Docs\\Academic\\IronHack\\Projects\\Project-Week-8-Travelling-With-Wheelchair/RoadImages/road*'), 200):\n",
    "    shutil.move(i, 'E:\\Docs\\Academic\\IronHack\\Projects\\Project-Week-8-Travelling-With-Wheelchair\\RoadImages/test/road')      \n",
    "for i in random.sample(glob.glob('E:\\Docs\\Academic\\IronHack\\Projects\\Project-Week-8-Travelling-With-Wheelchair/RoadImages/*ramp*'), 200):\n",
    "    shutil.move(i, 'E:\\Docs\\Academic\\IronHack\\Projects\\Project-Week-8-Travelling-With-Wheelchair\\RoadImages/test/sidewalk')"
   ]
  }
 ],
 "metadata": {
  "kernelspec": {
   "display_name": "final_project",
   "language": "python",
   "name": "final_project"
  },
  "language_info": {
   "codemirror_mode": {
    "name": "ipython",
    "version": 3
   },
   "file_extension": ".py",
   "mimetype": "text/x-python",
   "name": "python",
   "nbconvert_exporter": "python",
   "pygments_lexer": "ipython3",
   "version": "3.7.7"
  }
 },
 "nbformat": 4,
 "nbformat_minor": 4
}
