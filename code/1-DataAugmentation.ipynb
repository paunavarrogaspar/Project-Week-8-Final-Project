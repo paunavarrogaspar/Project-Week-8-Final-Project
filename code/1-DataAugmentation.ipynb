{
 "cells": [
  {
   "cell_type": "code",
   "execution_count": 7,
   "metadata": {},
   "outputs": [],
   "source": [
    "# Import the necessary libraries\n",
    "import cv2\n",
    "import os\n",
    "from PIL import Image\n",
    "from PIL import ImagePalette\n",
    "import shutil\n",
    "import random"
   ]
  },
  {
   "cell_type": "code",
   "execution_count": 40,
   "metadata": {},
   "outputs": [],
   "source": [
    "# Define the path to the images\n",
    "path = 'images/'"
   ]
  },
  {
   "cell_type": "code",
   "execution_count": 63,
   "metadata": {},
   "outputs": [],
   "source": [
    "# Rotate the images to amplify the sidewalk image sample\n",
    "images = os.listdir(path)\n",
    "for i in images:\n",
    "    img = Image.open(str(path+i))\n",
    "    for e in range(45,360,90):\n",
    "        img_rot = img.rotate(e)\n",
    "        img_rot.save(path+str(i)+'_'+str(e)+'_degrees.png')"
   ]
  },
  {
   "cell_type": "code",
   "execution_count": 3,
   "metadata": {},
   "outputs": [],
   "source": [
    "# Define the path to the road images\n",
    "road_path = 'E:\\Docs\\Academic\\IronHack\\Projects\\Project-Week-8-Travelling-With-Wheelchair\\RoadImages/'"
   ]
  },
  {
   "cell_type": "code",
   "execution_count": 8,
   "metadata": {},
   "outputs": [],
   "source": [
    "# Rotate the images to amplify the highway image sample\n",
    "road_images = os.listdir(road_path)\n",
    "for image in road_images:\n",
    "    img = Image.open(str(road_path+image))\n",
    "    for i in range(3):\n",
    "        rotation = random.randint(1,359)\n",
    "        img_rot = img.rotate(rotation)\n",
    "        img_rot.save(road_path+str(image)+'_'+str(rotation)+'_degrees.png')"
   ]
  }
 ],
 "metadata": {
  "kernelspec": {
   "display_name": "final_project",
   "language": "python",
   "name": "final_project"
  },
  "language_info": {
   "codemirror_mode": {
    "name": "ipython",
    "version": 3
   },
   "file_extension": ".py",
   "mimetype": "text/x-python",
   "name": "python",
   "nbconvert_exporter": "python",
   "pygments_lexer": "ipython3",
   "version": "3.7.7"
  }
 },
 "nbformat": 4,
 "nbformat_minor": 4
}
